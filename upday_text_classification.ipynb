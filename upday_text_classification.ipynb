{
 "cells": [
  {
   "cell_type": "code",
   "execution_count": 213,
   "id": "e3854dab",
   "metadata": {},
   "outputs": [],
   "source": [
    "import spacy\n",
    "import pandas as pd\n",
    "import numpy as np\n",
    "import seaborn as sns\n",
    "import matplotlib.pyplot as plt\n",
    "from sklearn.metrics import ConfusionMatrixDisplay, brier_score_loss, f1_score\n",
    "from IPython.display import Image\n"
   ]
  },
  {
   "cell_type": "code",
   "execution_count": 4,
   "id": "b5dcbb32",
   "metadata": {},
   "outputs": [],
   "source": [
    "from utils import parse_url, restore_data, categories\n",
    "from predict import evaluate, get_true_label, extract_predicted_cat, results_as_df"
   ]
  },
  {
   "cell_type": "code",
   "execution_count": 5,
   "id": "51866a8c",
   "metadata": {},
   "outputs": [],
   "source": [
    "docs = pd.read_csv('./data/data_redacted.tsv', sep='\\t')"
   ]
  },
  {
   "cell_type": "markdown",
   "id": "20efd8ea",
   "metadata": {},
   "source": [
    "# EDA"
   ]
  },
  {
   "cell_type": "code",
   "execution_count": 6,
   "id": "96215904",
   "metadata": {},
   "outputs": [
    {
     "data": {
      "text/plain": [
       "8646"
      ]
     },
     "execution_count": 6,
     "metadata": {},
     "output_type": "execute_result"
    }
   ],
   "source": [
    "# number of articles in the dataset\n",
    "len(docs)"
   ]
  },
  {
   "cell_type": "code",
   "execution_count": 168,
   "id": "ab19662b",
   "metadata": {
    "scrolled": true
   },
   "outputs": [
    {
     "data": {
      "text/html": [
       "<div>\n",
       "<style scoped>\n",
       "    .dataframe tbody tr th:only-of-type {\n",
       "        vertical-align: middle;\n",
       "    }\n",
       "\n",
       "    .dataframe tbody tr th {\n",
       "        vertical-align: top;\n",
       "    }\n",
       "\n",
       "    .dataframe thead th {\n",
       "        text-align: right;\n",
       "    }\n",
       "</style>\n",
       "<table border=\"1\" class=\"dataframe\">\n",
       "  <thead>\n",
       "    <tr style=\"text-align: right;\">\n",
       "      <th></th>\n",
       "      <th>title</th>\n",
       "      <th>text</th>\n",
       "      <th>url</th>\n",
       "      <th>category</th>\n",
       "    </tr>\n",
       "  </thead>\n",
       "  <tbody>\n",
       "    <tr>\n",
       "      <th>0</th>\n",
       "      <td>Don\"t Mourn the Y Chromosome</td>\n",
       "      <td>The human Y chromosome may vanish one day, but...</td>\n",
       "      <td>http://discovermagazine.com/2014/nov/13-y-not</td>\n",
       "      <td>technology_science</td>\n",
       "    </tr>\n",
       "    <tr>\n",
       "      <th>1</th>\n",
       "      <td>Destiny: Bungie to introduce ammo pack micro-t...</td>\n",
       "      <td>Bungie is putting together plans to start sell...</td>\n",
       "      <td>http://www.ibtimes.co.uk/destiny-bungie-introd...</td>\n",
       "      <td>digital_life</td>\n",
       "    </tr>\n",
       "    <tr>\n",
       "      <th>2</th>\n",
       "      <td>Daruvala to race for Josef Kaufmann Racing in ...</td>\n",
       "      <td>Highly rated Jehan Daruvala will race for Jose...</td>\n",
       "      <td>http://www.thecheckeredflag.co.uk/2015/12/daru...</td>\n",
       "      <td>sports</td>\n",
       "    </tr>\n",
       "    <tr>\n",
       "      <th>3</th>\n",
       "      <td>Secondary tropical forests absorb carbon at hi...</td>\n",
       "      <td>Forests are an important carbon sink. While mo...</td>\n",
       "      <td>http://www.sciencedaily.com/releases/2016/02/1...</td>\n",
       "      <td>technology_science</td>\n",
       "    </tr>\n",
       "    <tr>\n",
       "      <th>4</th>\n",
       "      <td>This Brow Hack Will Change the Way You Fill In...</td>\n",
       "      <td>Before everyone was trying to get eyebrows on ...</td>\n",
       "      <td>http://www.popsugar.com/beauty/How-Use-Brow-Ge...</td>\n",
       "      <td>fashion_beauty_lifestyle</td>\n",
       "    </tr>\n",
       "  </tbody>\n",
       "</table>\n",
       "</div>"
      ],
      "text/plain": [
       "                                               title  \\\n",
       "0                       Don\"t Mourn the Y Chromosome   \n",
       "1  Destiny: Bungie to introduce ammo pack micro-t...   \n",
       "2  Daruvala to race for Josef Kaufmann Racing in ...   \n",
       "3  Secondary tropical forests absorb carbon at hi...   \n",
       "4  This Brow Hack Will Change the Way You Fill In...   \n",
       "\n",
       "                                                text  \\\n",
       "0  The human Y chromosome may vanish one day, but...   \n",
       "1  Bungie is putting together plans to start sell...   \n",
       "2  Highly rated Jehan Daruvala will race for Jose...   \n",
       "3  Forests are an important carbon sink. While mo...   \n",
       "4  Before everyone was trying to get eyebrows on ...   \n",
       "\n",
       "                                                 url                  category  \n",
       "0      http://discovermagazine.com/2014/nov/13-y-not        technology_science  \n",
       "1  http://www.ibtimes.co.uk/destiny-bungie-introd...              digital_life  \n",
       "2  http://www.thecheckeredflag.co.uk/2015/12/daru...                    sports  \n",
       "3  http://www.sciencedaily.com/releases/2016/02/1...        technology_science  \n",
       "4  http://www.popsugar.com/beauty/How-Use-Brow-Ge...  fashion_beauty_lifestyle  "
      ]
     },
     "execution_count": 168,
     "metadata": {},
     "output_type": "execute_result"
    }
   ],
   "source": [
    "docs.head()"
   ]
  },
  {
   "cell_type": "markdown",
   "id": "eb22e42a",
   "metadata": {},
   "source": [
    "## Label Distribution"
   ]
  },
  {
   "cell_type": "code",
   "execution_count": 169,
   "id": "f6b9806c",
   "metadata": {},
   "outputs": [
    {
     "data": {
      "image/png": "[encoded data removed]",
      "text/plain": [
       "<Figure size 432x288 with 1 Axes>"
      ]
     },
     "metadata": {},
     "output_type": "display_data"
    }
   ],
   "source": [
    "sns.set_theme()\n",
    "docs.category.value_counts(normalize=True).plot(kind='barh')\n",
    "plt.show()"
   ]
  },
  {
   "cell_type": "code",
   "execution_count": 9,
   "id": "c16ef02f",
   "metadata": {},
   "outputs": [
    {
     "data": {
      "text/plain": [
       "www.theguardian.com      0.104441\n",
       "www.telegraph.co.uk      0.050891\n",
       "www.independent.co.uk    0.049850\n",
       "www.bbc.com              0.027759\n",
       "www.dailymail.co.uk      0.024057\n",
       "www.mirror.co.uk         0.022091\n",
       "www.express.co.uk        0.019894\n",
       "phys.org                 0.013879\n",
       "dtype: float64"
      ]
     },
     "execution_count": 9,
     "metadata": {},
     "output_type": "execute_result"
    }
   ],
   "source": [
    "webpages = pd.Series([parse_url(url) for url in docs[\"url\"]])\n",
    "# most frequent news websites in the dataset\n",
    "webpages.value_counts(normalize=True).head(8)"
   ]
  },
  {
   "cell_type": "markdown",
   "id": "54d6180c",
   "metadata": {},
   "source": [
    "It seems that the websites from which the articles are taken, are general news websites (as opposed to websites dedicated to a single topic, i.e. sports). That suggests that the source of the article may not be a very good indicator for its topic"
   ]
  },
  {
   "cell_type": "markdown",
   "id": "c42cd6f8",
   "metadata": {},
   "source": [
    "# Modeling Details"
   ]
  },
  {
   "cell_type": "markdown",
   "id": "35f01196",
   "metadata": {},
   "source": [
    "In this work, I used SpaCy V3.2 TextCatagorizer for the following reasons:\n",
    "* SpaCy offers \"off the shelf\" solution which is easy to model, maintain and read. It is also usually fast and scalable and hence suitable for production (in real production setting, there is no use for customized model if it can't beat an of the shelf solution that serves as a baseline.\n",
    "* I used earlier versions of SpaCy and I wanted to try the V3 which introduces (among other things) a cleaner (less boilerplates) way to train models"
   ]
  },
  {
   "cell_type": "markdown",
   "id": "026aa835",
   "metadata": {},
   "source": [
    "SpaCy's TextCategorizer uses a very simple architecture:\n",
    "* The document is tokenized, and ngrams are being pulled\n",
    "* for each ngram a (pre trained) vector representation is fetched from SpaCy's\n",
    "* vectors are passed to a sinfle linear layer\n",
    "* A softmax layer is add on top"
   ]
  },
  {
   "cell_type": "markdown",
   "id": "abd691f2",
   "metadata": {},
   "source": [
    "The entire hyper-parameters set can be found on config.cfg file"
   ]
  },
  {
   "cell_type": "markdown",
   "id": "78c1ec70",
   "metadata": {},
   "source": [
    "I trained a (very) basic model, with just a single epoch and achieved an accuracy of about 71%, which is better than random...\n",
    "It seems that this architecture can do much better with this data, if trained properly."
   ]
  },
  {
   "cell_type": "markdown",
   "id": "98a3d88f",
   "metadata": {},
   "source": [
    "The analysis I'm about to present is done using this model I described above. It was trained on 85% of the the data (train and validation) from which 10% (and overall 8.5%) used as validation set.\n",
    "The performance is evaluated on 15% of the data which serves as a test set and was not seen by the model at any stage"
   ]
  },
  {
   "cell_type": "markdown",
   "id": "7b47ade8",
   "metadata": {},
   "source": [
    "# Analyze Test Set Predictions"
   ]
  },
  {
   "cell_type": "markdown",
   "id": "adc66d6f",
   "metadata": {},
   "source": [
    "## Extract Predictions"
   ]
  },
  {
   "cell_type": "code",
   "execution_count": 10,
   "id": "60645e42",
   "metadata": {},
   "outputs": [],
   "source": [
    "doc_classfier = spacy.load(\"./output/model-best\")\n",
    "test = restore_data(\"./data/test.spacy\", doc_classfier)\n",
    "test_pred = restore_data(\"./data/test_with_pred.spacy\", doc_classfier)"
   ]
  },
  {
   "cell_type": "code",
   "execution_count": 11,
   "id": "93caeea6",
   "metadata": {},
   "outputs": [],
   "source": [
    "predictions = [extract_predicted_cat(doc) for doc in test_pred]\n",
    "labels = [get_true_label(doc) for doc in test]"
   ]
  },
  {
   "cell_type": "code",
   "execution_count": 71,
   "id": "8bfc4663",
   "metadata": {},
   "outputs": [],
   "source": [
    "results = results_as_df(labels=labels, predictions=predictions).\\\n",
    "assign(is_correct=lambda row: row.label==row.predicted)"
   ]
  },
  {
   "cell_type": "code",
   "execution_count": 171,
   "id": "fcdf3192",
   "metadata": {},
   "outputs": [
    {
     "name": "stdout",
     "output_type": "stream",
     "text": [
      "overall accuracy: 0.71\n"
     ]
    }
   ],
   "source": [
    "acc, conf = evaluate(labels=labels, predictions=predictions, categories=categories)"
   ]
  },
  {
   "cell_type": "markdown",
   "id": "265ed667",
   "metadata": {},
   "source": [
    "## Confusion Matrix"
   ]
  },
  {
   "cell_type": "code",
   "execution_count": 13,
   "id": "a4161060",
   "metadata": {},
   "outputs": [
    {
     "data": {
      "image/png": "[encoded data removed]",
      "text/plain": [
       "<Figure size 432x288 with 2 Axes>"
      ]
     },
     "metadata": {},
     "output_type": "display_data"
    }
   ],
   "source": [
    "disp = ConfusionMatrixDisplay(confusion_matrix=conf, display_labels=categories)\n",
    "disp.plot(xticks_rotation='vertical')\n",
    "plt.show()"
   ]
  },
  {
   "cell_type": "markdown",
   "id": "5dacc7b3",
   "metadata": {},
   "source": [
    "The same chart, as an image, to make it easier to look at:"
   ]
  },
  {
   "cell_type": "markdown",
   "id": "a5c225de",
   "metadata": {},
   "source": [
    "![title](charts/conf_mat.png)"
   ]
  },
  {
   "cell_type": "markdown",
   "id": "531c0d34",
   "metadata": {},
   "source": [
    "Few comments regarding the confusion matrix:\n",
    "* Documents about \"politics\" are often misclassified as \"news\". These are indeed similar topics but it is interesting to note that \"news\" are almost never misclassified\n",
    "* \"Travel\" are often misclassified as \"culture\" and, to a lesser extent, as \"cars motors\". This makes sense as \"culture\" and \"travel\" are indeed overlapping while \"cars motors\" documents may use words like \"airplane\" or \"train\" which are also mentioned on \"travel\" documents\n",
    "* \"People shows\" is often misclassified as \"culture\" - makes sense\n"
   ]
  },
  {
   "cell_type": "markdown",
   "id": "d911a98d",
   "metadata": {},
   "source": [
    "## Misclassification Errors"
   ]
  },
  {
   "cell_type": "markdown",
   "id": "50b7adcb",
   "metadata": {},
   "source": [
    "To focus on misclassification, let's extract, for each the category, the category it is most often misclassified for:"
   ]
  },
  {
   "cell_type": "code",
   "execution_count": 51,
   "id": "69b14968",
   "metadata": {},
   "outputs": [],
   "source": [
    "misclass = conf.copy()\n",
    "np.fill_diagonal(misclass, 0)\n",
    "misclass_df = pd.DataFrame(misclass, columns=categories).assign(category=categories).set_index(\"category\")"
   ]
  },
  {
   "cell_type": "code",
   "execution_count": 56,
   "id": "90dd8f8e",
   "metadata": {},
   "outputs": [
    {
     "data": {
      "text/html": [
       "<div>\n",
       "<style scoped>\n",
       "    .dataframe tbody tr th:only-of-type {\n",
       "        vertical-align: middle;\n",
       "    }\n",
       "\n",
       "    .dataframe tbody tr th {\n",
       "        vertical-align: top;\n",
       "    }\n",
       "\n",
       "    .dataframe thead th {\n",
       "        text-align: right;\n",
       "    }\n",
       "</style>\n",
       "<table border=\"1\" class=\"dataframe\">\n",
       "  <thead>\n",
       "    <tr style=\"text-align: right;\">\n",
       "      <th></th>\n",
       "      <th>technology_science</th>\n",
       "      <th>digital_life</th>\n",
       "      <th>sports</th>\n",
       "      <th>fashion_beauty_lifestyle</th>\n",
       "      <th>money_business</th>\n",
       "      <th>politics</th>\n",
       "      <th>people_shows</th>\n",
       "      <th>news</th>\n",
       "      <th>culture</th>\n",
       "      <th>travel</th>\n",
       "      <th>music</th>\n",
       "      <th>cars_motors</th>\n",
       "    </tr>\n",
       "    <tr>\n",
       "      <th>category</th>\n",
       "      <th></th>\n",
       "      <th></th>\n",
       "      <th></th>\n",
       "      <th></th>\n",
       "      <th></th>\n",
       "      <th></th>\n",
       "      <th></th>\n",
       "      <th></th>\n",
       "      <th></th>\n",
       "      <th></th>\n",
       "      <th></th>\n",
       "      <th></th>\n",
       "    </tr>\n",
       "  </thead>\n",
       "  <tbody>\n",
       "    <tr>\n",
       "      <th>technology_science</th>\n",
       "      <td>0</td>\n",
       "      <td>2</td>\n",
       "      <td>1</td>\n",
       "      <td>6</td>\n",
       "      <td>0</td>\n",
       "      <td>0</td>\n",
       "      <td>0</td>\n",
       "      <td>15</td>\n",
       "      <td>9</td>\n",
       "      <td>0</td>\n",
       "      <td>0</td>\n",
       "      <td>3</td>\n",
       "    </tr>\n",
       "    <tr>\n",
       "      <th>digital_life</th>\n",
       "      <td>1</td>\n",
       "      <td>0</td>\n",
       "      <td>1</td>\n",
       "      <td>7</td>\n",
       "      <td>0</td>\n",
       "      <td>0</td>\n",
       "      <td>1</td>\n",
       "      <td>12</td>\n",
       "      <td>13</td>\n",
       "      <td>0</td>\n",
       "      <td>0</td>\n",
       "      <td>16</td>\n",
       "    </tr>\n",
       "    <tr>\n",
       "      <th>sports</th>\n",
       "      <td>0</td>\n",
       "      <td>0</td>\n",
       "      <td>0</td>\n",
       "      <td>0</td>\n",
       "      <td>0</td>\n",
       "      <td>0</td>\n",
       "      <td>1</td>\n",
       "      <td>3</td>\n",
       "      <td>0</td>\n",
       "      <td>0</td>\n",
       "      <td>0</td>\n",
       "      <td>11</td>\n",
       "    </tr>\n",
       "    <tr>\n",
       "      <th>fashion_beauty_lifestyle</th>\n",
       "      <td>12</td>\n",
       "      <td>3</td>\n",
       "      <td>7</td>\n",
       "      <td>0</td>\n",
       "      <td>0</td>\n",
       "      <td>0</td>\n",
       "      <td>2</td>\n",
       "      <td>6</td>\n",
       "      <td>23</td>\n",
       "      <td>0</td>\n",
       "      <td>4</td>\n",
       "      <td>3</td>\n",
       "    </tr>\n",
       "    <tr>\n",
       "      <th>money_business</th>\n",
       "      <td>4</td>\n",
       "      <td>5</td>\n",
       "      <td>0</td>\n",
       "      <td>11</td>\n",
       "      <td>0</td>\n",
       "      <td>1</td>\n",
       "      <td>0</td>\n",
       "      <td>22</td>\n",
       "      <td>7</td>\n",
       "      <td>0</td>\n",
       "      <td>1</td>\n",
       "      <td>2</td>\n",
       "    </tr>\n",
       "  </tbody>\n",
       "</table>\n",
       "</div>"
      ],
      "text/plain": [
       "                          technology_science  digital_life  sports  \\\n",
       "category                                                             \n",
       "technology_science                         0             2       1   \n",
       "digital_life                               1             0       1   \n",
       "sports                                     0             0       0   \n",
       "fashion_beauty_lifestyle                  12             3       7   \n",
       "money_business                             4             5       0   \n",
       "\n",
       "                          fashion_beauty_lifestyle  money_business  politics  \\\n",
       "category                                                                       \n",
       "technology_science                               6               0         0   \n",
       "digital_life                                     7               0         0   \n",
       "sports                                           0               0         0   \n",
       "fashion_beauty_lifestyle                         0               0         0   \n",
       "money_business                                  11               0         1   \n",
       "\n",
       "                          people_shows  news  culture  travel  music  \\\n",
       "category                                                               \n",
       "technology_science                   0    15        9       0      0   \n",
       "digital_life                         1    12       13       0      0   \n",
       "sports                               1     3        0       0      0   \n",
       "fashion_beauty_lifestyle             2     6       23       0      4   \n",
       "money_business                       0    22        7       0      1   \n",
       "\n",
       "                          cars_motors  \n",
       "category                               \n",
       "technology_science                  3  \n",
       "digital_life                       16  \n",
       "sports                             11  \n",
       "fashion_beauty_lifestyle            3  \n",
       "money_business                      2  "
      ]
     },
     "execution_count": 56,
     "metadata": {},
     "output_type": "execute_result"
    }
   ],
   "source": [
    "misclass_df.head()"
   ]
  },
  {
   "cell_type": "markdown",
   "id": "40539b7d",
   "metadata": {},
   "source": [
    "The most common misclassification error per (true) category:"
   ]
  },
  {
   "cell_type": "code",
   "execution_count": 64,
   "id": "bc801b0a",
   "metadata": {},
   "outputs": [
    {
     "data": {
      "text/html": [
       "<div>\n",
       "<style scoped>\n",
       "    .dataframe tbody tr th:only-of-type {\n",
       "        vertical-align: middle;\n",
       "    }\n",
       "\n",
       "    .dataframe tbody tr th {\n",
       "        vertical-align: top;\n",
       "    }\n",
       "\n",
       "    .dataframe thead th {\n",
       "        text-align: right;\n",
       "    }\n",
       "</style>\n",
       "<table border=\"1\" class=\"dataframe\">\n",
       "  <thead>\n",
       "    <tr style=\"text-align: right;\">\n",
       "      <th></th>\n",
       "      <th>most_common_misclassification</th>\n",
       "    </tr>\n",
       "    <tr>\n",
       "      <th>category</th>\n",
       "      <th></th>\n",
       "    </tr>\n",
       "  </thead>\n",
       "  <tbody>\n",
       "    <tr>\n",
       "      <th>technology_science</th>\n",
       "      <td>news</td>\n",
       "    </tr>\n",
       "    <tr>\n",
       "      <th>digital_life</th>\n",
       "      <td>cars_motors</td>\n",
       "    </tr>\n",
       "    <tr>\n",
       "      <th>sports</th>\n",
       "      <td>cars_motors</td>\n",
       "    </tr>\n",
       "    <tr>\n",
       "      <th>fashion_beauty_lifestyle</th>\n",
       "      <td>culture</td>\n",
       "    </tr>\n",
       "    <tr>\n",
       "      <th>money_business</th>\n",
       "      <td>news</td>\n",
       "    </tr>\n",
       "    <tr>\n",
       "      <th>politics</th>\n",
       "      <td>news</td>\n",
       "    </tr>\n",
       "    <tr>\n",
       "      <th>people_shows</th>\n",
       "      <td>culture</td>\n",
       "    </tr>\n",
       "    <tr>\n",
       "      <th>news</th>\n",
       "      <td>sports</td>\n",
       "    </tr>\n",
       "    <tr>\n",
       "      <th>culture</th>\n",
       "      <td>news</td>\n",
       "    </tr>\n",
       "    <tr>\n",
       "      <th>travel</th>\n",
       "      <td>culture</td>\n",
       "    </tr>\n",
       "    <tr>\n",
       "      <th>music</th>\n",
       "      <td>culture</td>\n",
       "    </tr>\n",
       "    <tr>\n",
       "      <th>cars_motors</th>\n",
       "      <td>fashion_beauty_lifestyle</td>\n",
       "    </tr>\n",
       "  </tbody>\n",
       "</table>\n",
       "</div>"
      ],
      "text/plain": [
       "                         most_common_misclassification\n",
       "category                                              \n",
       "technology_science                                news\n",
       "digital_life                               cars_motors\n",
       "sports                                     cars_motors\n",
       "fashion_beauty_lifestyle                       culture\n",
       "money_business                                    news\n",
       "politics                                          news\n",
       "people_shows                                   culture\n",
       "news                                            sports\n",
       "culture                                           news\n",
       "travel                                         culture\n",
       "music                                          culture\n",
       "cars_motors                   fashion_beauty_lifestyle"
      ]
     },
     "execution_count": 64,
     "metadata": {},
     "output_type": "execute_result"
    }
   ],
   "source": [
    "misclass_df.transpose().\\\n",
    "apply(lambda s: s.nlargest(1)).apply(lambda s: s[~(s.isna())].index).transpose().\\\n",
    "rename(columns={0: \"most_common_misclassification\"})"
   ]
  },
  {
   "cell_type": "markdown",
   "id": "c6ca8fe5",
   "metadata": {},
   "source": [
    "## Score Distribution, Accuracy and Coverage"
   ]
  },
  {
   "cell_type": "code",
   "execution_count": 68,
   "id": "86f90e9d",
   "metadata": {},
   "outputs": [
    {
     "data": {
      "text/html": [
       "<div>\n",
       "<style scoped>\n",
       "    .dataframe tbody tr th:only-of-type {\n",
       "        vertical-align: middle;\n",
       "    }\n",
       "\n",
       "    .dataframe tbody tr th {\n",
       "        vertical-align: top;\n",
       "    }\n",
       "\n",
       "    .dataframe thead th {\n",
       "        text-align: right;\n",
       "    }\n",
       "</style>\n",
       "<table border=\"1\" class=\"dataframe\">\n",
       "  <thead>\n",
       "    <tr style=\"text-align: right;\">\n",
       "      <th></th>\n",
       "      <th>label</th>\n",
       "      <th>predicted</th>\n",
       "      <th>score</th>\n",
       "      <th>correct</th>\n",
       "    </tr>\n",
       "  </thead>\n",
       "  <tbody>\n",
       "    <tr>\n",
       "      <th>0</th>\n",
       "      <td>people_shows</td>\n",
       "      <td>culture</td>\n",
       "      <td>0.563158</td>\n",
       "      <td>False</td>\n",
       "    </tr>\n",
       "    <tr>\n",
       "      <th>1</th>\n",
       "      <td>sports</td>\n",
       "      <td>sports</td>\n",
       "      <td>0.999639</td>\n",
       "      <td>True</td>\n",
       "    </tr>\n",
       "    <tr>\n",
       "      <th>2</th>\n",
       "      <td>money_business</td>\n",
       "      <td>money_business</td>\n",
       "      <td>0.718311</td>\n",
       "      <td>True</td>\n",
       "    </tr>\n",
       "    <tr>\n",
       "      <th>3</th>\n",
       "      <td>fashion_beauty_lifestyle</td>\n",
       "      <td>fashion_beauty_lifestyle</td>\n",
       "      <td>0.995138</td>\n",
       "      <td>True</td>\n",
       "    </tr>\n",
       "    <tr>\n",
       "      <th>4</th>\n",
       "      <td>technology_science</td>\n",
       "      <td>technology_science</td>\n",
       "      <td>0.895554</td>\n",
       "      <td>True</td>\n",
       "    </tr>\n",
       "  </tbody>\n",
       "</table>\n",
       "</div>"
      ],
      "text/plain": [
       "                      label                 predicted     score  correct\n",
       "0              people_shows                   culture  0.563158    False\n",
       "1                    sports                    sports  0.999639     True\n",
       "2            money_business            money_business  0.718311     True\n",
       "3  fashion_beauty_lifestyle  fashion_beauty_lifestyle  0.995138     True\n",
       "4        technology_science        technology_science  0.895554     True"
      ]
     },
     "execution_count": 68,
     "metadata": {},
     "output_type": "execute_result"
    }
   ],
   "source": [
    "results.head()"
   ]
  },
  {
   "cell_type": "code",
   "execution_count": 72,
   "id": "e2ab0f85",
   "metadata": {},
   "outputs": [
    {
     "data": {
      "image/png": "[encoded data removed]",
      "text/plain": [
       "<Figure size 426.35x360 with 1 Axes>"
      ]
     },
     "metadata": {},
     "output_type": "display_data"
    }
   ],
   "source": [
    "sns.displot(results, x=\"score\", hue=\"is_correct\", kind=\"kde\")\n",
    "plt.show()"
   ]
  },
  {
   "cell_type": "markdown",
   "id": "bbd289f8",
   "metadata": {},
   "source": [
    "The above KDE plots show that when we classify correctly, the probability we give to the predicted class (that is, the highest probability among all classes) is usually high (close to 1), where as when we make a classification error, it is often the case that the model is \"not sure\" regarding the correct class and therefore assigns relatively low probabilities.\n",
    "\n",
    "That is a good attribute of a classification model, sense it allows us to adopt some threshold probability, say 0.8, and classify only documents with for which the most probable category is assigned a higher score. \n",
    "That might be useful if we have \"human in the loop\" and cam assign \"hard examples\" to be manually tagged.  \n",
    "\n",
    "That will increase accuracy with a price of lower coverage. We will now see that:"
   ]
  },
  {
   "cell_type": "code",
   "execution_count": 100,
   "id": "7e2cb350",
   "metadata": {},
   "outputs": [],
   "source": [
    "def calc_acc_cov(results, cutoff):\n",
    "    predictions = np.where(results.score >= cutoff, results.predicted, None)\n",
    "    is_correct = [pred == cat for pred, cat in zip(predictions, results.label) if pred]\n",
    "    non_class = [pred is None for pred in predictions]\n",
    "    acc = np.mean(is_correct)\n",
    "    cov = 1 - np.mean(non_class)\n",
    "    return {\"accuracy\": acc, \"coverage\": cov}\n",
    "    \n",
    "    "
   ]
  },
  {
   "cell_type": "code",
   "execution_count": 101,
   "id": "d9add0e2",
   "metadata": {},
   "outputs": [
    {
     "data": {
      "text/plain": [
       "{'accuracy': 0.8380614657210402, 'coverage': 0.6522744795682344}"
      ]
     },
     "execution_count": 101,
     "metadata": {},
     "output_type": "execute_result"
    }
   ],
   "source": [
    "calc_acc_cov(results, cutoff=0.7)"
   ]
  },
  {
   "cell_type": "code",
   "execution_count": 141,
   "id": "67d99573",
   "metadata": {},
   "outputs": [],
   "source": [
    "def get_acc_cov_characteristic(results, cutoffs):\n",
    "    acc_cov = []\n",
    "    for cutoff in cutoffs:\n",
    "        x = calc_acc_cov(results, cutoff)\n",
    "        x[\"cutoff\"] = cutoff\n",
    "        acc_cov.append(x)\n",
    "    return pd.DataFrame(acc_cov).set_index(\"cutoff\")"
   ]
  },
  {
   "cell_type": "code",
   "execution_count": 142,
   "id": "48dade73",
   "metadata": {},
   "outputs": [],
   "source": [
    "acc_cov_char = get_acc_cov_characteristic(results, cutoffs=[0.4, 0.5, 0.6, 0.7, 0.8, 0.9])"
   ]
  },
  {
   "cell_type": "code",
   "execution_count": 143,
   "id": "cd7b7681",
   "metadata": {},
   "outputs": [
    {
     "data": {
      "text/html": [
       "<div>\n",
       "<style scoped>\n",
       "    .dataframe tbody tr th:only-of-type {\n",
       "        vertical-align: middle;\n",
       "    }\n",
       "\n",
       "    .dataframe tbody tr th {\n",
       "        vertical-align: top;\n",
       "    }\n",
       "\n",
       "    .dataframe thead th {\n",
       "        text-align: right;\n",
       "    }\n",
       "</style>\n",
       "<table border=\"1\" class=\"dataframe\">\n",
       "  <thead>\n",
       "    <tr style=\"text-align: right;\">\n",
       "      <th></th>\n",
       "      <th>accuracy</th>\n",
       "      <th>coverage</th>\n",
       "    </tr>\n",
       "    <tr>\n",
       "      <th>cutoff</th>\n",
       "      <th></th>\n",
       "      <th></th>\n",
       "    </tr>\n",
       "  </thead>\n",
       "  <tbody>\n",
       "    <tr>\n",
       "      <th>0.4</th>\n",
       "      <td>0.743460</td>\n",
       "      <td>0.913647</td>\n",
       "    </tr>\n",
       "    <tr>\n",
       "      <th>0.5</th>\n",
       "      <td>0.780694</td>\n",
       "      <td>0.822668</td>\n",
       "    </tr>\n",
       "    <tr>\n",
       "      <th>0.6</th>\n",
       "      <td>0.814696</td>\n",
       "      <td>0.723978</td>\n",
       "    </tr>\n",
       "    <tr>\n",
       "      <th>0.7</th>\n",
       "      <td>0.838061</td>\n",
       "      <td>0.652274</td>\n",
       "    </tr>\n",
       "    <tr>\n",
       "      <th>0.8</th>\n",
       "      <td>0.864979</td>\n",
       "      <td>0.548188</td>\n",
       "    </tr>\n",
       "    <tr>\n",
       "      <th>0.9</th>\n",
       "      <td>0.892035</td>\n",
       "      <td>0.435621</td>\n",
       "    </tr>\n",
       "  </tbody>\n",
       "</table>\n",
       "</div>"
      ],
      "text/plain": [
       "        accuracy  coverage\n",
       "cutoff                    \n",
       "0.4     0.743460  0.913647\n",
       "0.5     0.780694  0.822668\n",
       "0.6     0.814696  0.723978\n",
       "0.7     0.838061  0.652274\n",
       "0.8     0.864979  0.548188\n",
       "0.9     0.892035  0.435621"
      ]
     },
     "execution_count": 143,
     "metadata": {},
     "output_type": "execute_result"
    }
   ],
   "source": [
    "acc_cov_char"
   ]
  },
  {
   "cell_type": "code",
   "execution_count": 144,
   "id": "70db239c",
   "metadata": {},
   "outputs": [
    {
     "data": {
      "image/png": "[encoded data removed]",
      "text/plain": [
       "<Figure size 432x288 with 1 Axes>"
      ]
     },
     "metadata": {},
     "output_type": "display_data"
    }
   ],
   "source": [
    "sns.lineplot(data=acc_cov_char)\n",
    "plt.show()"
   ]
  },
  {
   "cell_type": "markdown",
   "id": "23b3a6fb",
   "metadata": {},
   "source": [
    "## Other Metrics for Multi-class Classification "
   ]
  },
  {
   "cell_type": "markdown",
   "id": "187e5c15",
   "metadata": {},
   "source": [
    "Since I didn't consider other models or configurations of the same model, no model selection was done.\n",
    "However, I had to improve this model, I would hyper-parameter tune it (at least) and then conduct model selection.\n",
    "The following function allows to easily extract some other metrics (other than just global accuracy) "
   ]
  },
  {
   "cell_type": "code",
   "execution_count": 200,
   "id": "19004a5e",
   "metadata": {},
   "outputs": [],
   "source": [
    "def calc_metrics(labels, predictions):\n",
    "    y_prob=[pred.score for pred in predictions]\n",
    "    y_true_prob=[int(label == pred.cat) for label, pred in zip(labels, predictions)]\n",
    "    y_pred=[pred.cat for pred in predictions]\n",
    "    \n",
    "    brier = brier_score_loss(y_prob=y_prob, y_true=y_true_prob)\n",
    "    f1_macro = f1_score(y_true=labels, y_pred=y_pred, average='macro')\n",
    "    f1_micro = f1_score(y_true=labels, y_pred=y_pred, average='micro')\n",
    "    f1_weighted = f1_score(y_true=labels, y_pred=y_pred, average='weighted')\n",
    "    \n",
    "    return brier, f1_macro, f1_micro, f1_weighted"
   ]
  },
  {
   "cell_type": "code",
   "execution_count": 212,
   "id": "a16d3df0",
   "metadata": {},
   "outputs": [
    {
     "name": "stdout",
     "output_type": "stream",
     "text": [
      "Micro F1 score 0.71\n",
      "Macro F1 score 0.68\n",
      "Weighted F1 score 0.71\n",
      "Brier score 0.17\n"
     ]
    }
   ],
   "source": [
    "brier, f1_macro, f1_micro, f1_weighted = calc_metrics(labels, predictions)\n",
    "print(f\"Micro F1 score {f1_micro:.2f}\\n\\\n",
    "Macro F1 score {f1_macro:.2f}\\n\\\n",
    "Weighted F1 score {f1_weighted:.2f}\\n\\\n",
    "Brier score {brier:.2f}\")"
   ]
  },
  {
   "cell_type": "markdown",
   "id": "5943e82d",
   "metadata": {},
   "source": [
    "# Error Analysis"
   ]
  },
  {
   "cell_type": "markdown",
   "id": "d3b78bda",
   "metadata": {},
   "source": [
    "It might be interesting to look at some misclassified examples, I will do so (very) briefly"
   ]
  },
  {
   "cell_type": "code",
   "execution_count": 147,
   "id": "01aa89d4",
   "metadata": {},
   "outputs": [],
   "source": [
    "results_with_text = results.assign(text = test)"
   ]
  },
  {
   "cell_type": "code",
   "execution_count": 153,
   "id": "e53b3401",
   "metadata": {},
   "outputs": [],
   "source": [
    "news_politics = results_with_text.query(\"predicted == 'news' and label == 'politics'\")"
   ]
  },
  {
   "cell_type": "code",
   "execution_count": 164,
   "id": "2afef50e",
   "metadata": {},
   "outputs": [
    {
     "data": {
      "text/html": [
       "<div>\n",
       "<style scoped>\n",
       "    .dataframe tbody tr th:only-of-type {\n",
       "        vertical-align: middle;\n",
       "    }\n",
       "\n",
       "    .dataframe tbody tr th {\n",
       "        vertical-align: top;\n",
       "    }\n",
       "\n",
       "    .dataframe thead th {\n",
       "        text-align: right;\n",
       "    }\n",
       "</style>\n",
       "<table border=\"1\" class=\"dataframe\">\n",
       "  <thead>\n",
       "    <tr style=\"text-align: right;\">\n",
       "      <th></th>\n",
       "      <th>label</th>\n",
       "      <th>predicted</th>\n",
       "      <th>score</th>\n",
       "      <th>is_correct</th>\n",
       "      <th>text</th>\n",
       "    </tr>\n",
       "  </thead>\n",
       "  <tbody>\n",
       "    <tr>\n",
       "      <th>6</th>\n",
       "      <td>politics</td>\n",
       "      <td>news</td>\n",
       "      <td>0.803727</td>\n",
       "      <td>False</td>\n",
       "      <td>(Three, quarters, of, children\"s, services, we...</td>\n",
       "    </tr>\n",
       "    <tr>\n",
       "      <th>48</th>\n",
       "      <td>politics</td>\n",
       "      <td>news</td>\n",
       "      <td>0.761447</td>\n",
       "      <td>False</td>\n",
       "      <td>(Unchecked, pollution, and, bad, food, ‘, kill...</td>\n",
       "    </tr>\n",
       "    <tr>\n",
       "      <th>73</th>\n",
       "      <td>politics</td>\n",
       "      <td>news</td>\n",
       "      <td>0.488296</td>\n",
       "      <td>False</td>\n",
       "      <td>(Which, would, you, rather, ,, President, Trum...</td>\n",
       "    </tr>\n",
       "    <tr>\n",
       "      <th>177</th>\n",
       "      <td>politics</td>\n",
       "      <td>news</td>\n",
       "      <td>0.510563</td>\n",
       "      <td>False</td>\n",
       "      <td>(Barack, Obama, says, world, needs, a, united,...</td>\n",
       "    </tr>\n",
       "    <tr>\n",
       "      <th>186</th>\n",
       "      <td>politics</td>\n",
       "      <td>news</td>\n",
       "      <td>0.587731</td>\n",
       "      <td>False</td>\n",
       "      <td>(Mexico, gov\"t, offers, to, negotiate, educati...</td>\n",
       "    </tr>\n",
       "    <tr>\n",
       "      <th>193</th>\n",
       "      <td>politics</td>\n",
       "      <td>news</td>\n",
       "      <td>0.532924</td>\n",
       "      <td>False</td>\n",
       "      <td>(Trump, still, leads, NH, ,, but, Christie, ri...</td>\n",
       "    </tr>\n",
       "  </tbody>\n",
       "</table>\n",
       "</div>"
      ],
      "text/plain": [
       "        label predicted     score  is_correct  \\\n",
       "6    politics      news  0.803727       False   \n",
       "48   politics      news  0.761447       False   \n",
       "73   politics      news  0.488296       False   \n",
       "177  politics      news  0.510563       False   \n",
       "186  politics      news  0.587731       False   \n",
       "193  politics      news  0.532924       False   \n",
       "\n",
       "                                                  text  \n",
       "6    (Three, quarters, of, children\"s, services, we...  \n",
       "48   (Unchecked, pollution, and, bad, food, ‘, kill...  \n",
       "73   (Which, would, you, rather, ,, President, Trum...  \n",
       "177  (Barack, Obama, says, world, needs, a, united,...  \n",
       "186  (Mexico, gov\"t, offers, to, negotiate, educati...  \n",
       "193  (Trump, still, leads, NH, ,, but, Christie, ri...  "
      ]
     },
     "execution_count": 164,
     "metadata": {},
     "output_type": "execute_result"
    }
   ],
   "source": [
    "news_politics.head(6)"
   ]
  },
  {
   "cell_type": "code",
   "execution_count": 166,
   "id": "cc9a76d2",
   "metadata": {},
   "outputs": [
    {
     "data": {
      "text/plain": [
       "'Unchecked pollution and bad food ‘killing thousands in UK’ Thousands of people are dying each year because of the government’s failure to tackle food poisoning, health and safety breaches and pollution, a thinktank is warning. A new report from the Centre for Crime and Justice Studies (CCJS) claims that lax regulation and weak enforcement are failing to hold businesses in check and are tantamount to state-facilitated “social murder”. The report, by Professor Steve Tombs, head of social policy and criminology at the Open University, claims that some 29,000 deaths in the UK are attributable to airborne pollution alone. A further 50,000 people die as a result of injuries or health problems orig'"
      ]
     },
     "execution_count": 166,
     "metadata": {},
     "output_type": "execute_result"
    }
   ],
   "source": [
    "doc = news_politics.text.iloc[1]\n",
    "doc.text[0:700]"
   ]
  },
  {
   "cell_type": "markdown",
   "id": "90da56f5",
   "metadata": {},
   "source": [
    "To be honest, I'm not sure how would I tag this article myself.., It isn't clear cut. I think at least some people would say it is more \"news\" than \"politics\""
   ]
  },
  {
   "cell_type": "code",
   "execution_count": 161,
   "id": "ab35f78c",
   "metadata": {},
   "outputs": [
    {
     "data": {
      "text/plain": [
       "'Trump still leads NH, but Christie rising Another poll shows Donald Trump preserving his lead in New Hampshire despite controversy surrounding his call for a ban on Muslim entry to the U.S., while challenger Chris Christie\"s has ridden a wave of recent momentum to second place and support for Ben Carson continues to slide. According to the new poll from WBUR in Boston , Trump remains in first place with the support of 27% of likely Republican primary voters. But New Jersey Governor Christie has '"
      ]
     },
     "execution_count": 161,
     "metadata": {},
     "output_type": "execute_result"
    }
   ],
   "source": [
    "doc = news_politics.text.iloc[5]\n",
    "doc.text[0:500]"
   ]
  },
  {
   "cell_type": "markdown",
   "id": "fcea7082",
   "metadata": {},
   "source": [
    "This indeed seems very politic (and indeed the score for news is relatively low)"
   ]
  }
 ],
 "metadata": {
  "kernelspec": {
   "display_name": "Python 3 (ipykernel)",
   "language": "python",
   "name": "python3"
  },
  "language_info": {
   "codemirror_mode": {
    "name": "ipython",
    "version": 3
   },
   "file_extension": ".py",
   "mimetype": "text/x-python",
   "name": "python",
   "nbconvert_exporter": "python",
   "pygments_lexer": "ipython3",
   "version": "3.8.9"
  },
  "toc": {
   "base_numbering": 1,
   "nav_menu": {},
   "number_sections": true,
   "sideBar": true,
   "skip_h1_title": false,
   "title_cell": "Table of Contents",
   "title_sidebar": "Contents",
   "toc_cell": false,
   "toc_position": {
    "height": "calc(100% - 180px)",
    "left": "10px",
    "top": "150px",
    "width": "285px"
   },
   "toc_section_display": true,
   "toc_window_display": true
  }
 },
 "nbformat": 4,
 "nbformat_minor": 5
}
